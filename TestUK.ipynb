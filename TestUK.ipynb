{
 "cells": [
  {
   "cell_type": "code",
   "execution_count": 1,
   "metadata": {},
   "outputs": [
    {
     "name": "stdout",
     "output_type": "stream",
     "text": [
      "Populating the interactive namespace from numpy and matplotlib\n"
     ]
    }
   ],
   "source": [
    "import pandas as pd\n",
    "import numpy as np\n",
    "import tqdm\n",
    "from pprint import pprint\n",
    "import matplotlib\n",
    "import matplotlib.pyplot as plt\n",
    "%pylab inline\n",
    "from datetime import timedelta"
   ]
  },
  {
   "cell_type": "markdown",
   "metadata": {},
   "source": [
    "if pc memory capacity wont be enought, can be done with dask library or by loading chunk by chunk"
   ]
  },
  {
   "cell_type": "code",
   "execution_count": 2,
   "metadata": {},
   "outputs": [
    {
     "name": "stdout",
     "output_type": "stream",
     "text": [
      "<class 'pandas.core.frame.DataFrame'>\n",
      "RangeIndex: 24020161 entries, 0 to 24020160\n",
      "Data columns (total 16 columns):\n",
      "id                   category\n",
      "price                int32\n",
      "date                 datetime64[ns]\n",
      "Postcode             category\n",
      "Property Type        category\n",
      "Old_New              category\n",
      "Duration             category\n",
      "PAON                 category\n",
      "SAON                 category\n",
      "Street               category\n",
      "Locality             category\n",
      "Town/City            category\n",
      "District             category\n",
      "County               category\n",
      "PPD Category Type    category\n",
      "Record Status        category\n",
      "dtypes: category(14), datetime64[ns](1), int32(1)\n",
      "memory usage: 3.7 GB\n"
     ]
    }
   ],
   "source": [
    "dt = pd.read_csv('pp-complete.csv', skip_blank_lines=True, header=None, dtype='category')\n",
    "\n",
    "dt.columns = ['id', 'price', 'date', 'Postcode', \n",
    "              'Property Type', 'Old_New', 'Duration', \n",
    "              'PAON','SAON','Street','Locality', 'Town/City','District', \n",
    "              'County', 'PPD Category Type', 'Record Status']\n",
    "\n",
    "dt['date'] = pd.to_datetime(dt['date'], errors ='coerce')\n",
    "dt['price'] = pd.to_numeric(dt['price'], downcast='integer')\n",
    "\n",
    "dt.info(memory_usage='deep')"
   ]
  },
  {
   "cell_type": "code",
   "execution_count": 3,
   "metadata": {},
   "outputs": [],
   "source": [
    "dt = dt[dt['PPD Category Type'] =='A']"
   ]
  },
  {
   "cell_type": "markdown",
   "metadata": {},
   "source": [
    "# Data Cleaning"
   ]
  },
  {
   "cell_type": "markdown",
   "metadata": {},
   "source": [
    "#### Price"
   ]
  },
  {
   "cell_type": "markdown",
   "metadata": {},
   "source": [
    "Lets look at price dynamic, yearly"
   ]
  },
  {
   "cell_type": "code",
   "execution_count": 4,
   "metadata": {},
   "outputs": [],
   "source": [
    "dt['year'] = dt['date'].dt.year"
   ]
  },
  {
   "cell_type": "code",
   "execution_count": 18,
   "metadata": {},
   "outputs": [
    {
     "data": {
      "text/plain": [
       "<matplotlib.axes._subplots.AxesSubplot at 0x2ad485bd0>"
      ]
     },
     "execution_count": 18,
     "metadata": {},
     "output_type": "execute_result"
    },
    {
     "data": {
      "image/png": "[encoded data removed]",
      "text/plain": [
       "<Figure size 432x288 with 1 Axes>"
      ]
     },
     "metadata": {
      "needs_background": "light"
     },
     "output_type": "display_data"
    }
   ],
   "source": [
    "y_l = dt[['year', 'price']].groupby('year').mean()\n",
    "y_l.plot()"
   ]
  },
  {
   "cell_type": "markdown",
   "metadata": {},
   "source": [
    "as price is constantly rising the better decision will be to model time series separately from main price model. Intermidiate solutions can be:\n",
    "* standartize price for each year/month\n",
    "* include year variable to the model is the form : 0,1,....20"
   ]
  },
  {
   "cell_type": "code",
   "execution_count": 6,
   "metadata": {},
   "outputs": [],
   "source": [
    "dt['year_index'] = int(dt['year'].max() - dt['year'].min())"
   ]
  },
  {
   "cell_type": "markdown",
   "metadata": {},
   "source": [
    "Will make fast liearn model to predict mean price for 2015 y"
   ]
  },
  {
   "cell_type": "code",
   "execution_count": 7,
   "metadata": {},
   "outputs": [],
   "source": [
    "y_l_list = y_l.price.tolist()"
   ]
  },
  {
   "cell_type": "code",
   "execution_count": 8,
   "metadata": {},
   "outputs": [
    {
     "name": "stdout",
     "output_type": "stream",
     "text": [
      "(0.9756442298443937, array([10545.41379358]), 66241.1773237361)\n"
     ]
    }
   ],
   "source": [
    "from sklearn.linear_model import LinearRegression\n",
    "x = np.array(range(len(y_l))).reshape(-1, 1)\n",
    "reg = LinearRegression().fit(x, y_l_list)\n",
    "print(reg.score(x, y_l_list), reg.coef_, reg.intercept_ )"
   ]
  },
  {
   "cell_type": "code",
   "execution_count": 19,
   "metadata": {},
   "outputs": [
    {
     "name": "stdout",
     "output_type": "stream",
     "text": [
      "Int64Index([20], dtype='int64')\n"
     ]
    }
   ],
   "source": [
    "y_l = y_l.reset_index(drop=False)\n",
    "print(y_l[y_l['year']==2015].index)"
   ]
  },
  {
   "cell_type": "code",
   "execution_count": 10,
   "metadata": {},
   "outputs": [
    {
     "data": {
      "text/plain": [
       "array([277149.45319537])"
      ]
     },
     "execution_count": 10,
     "metadata": {},
     "output_type": "execute_result"
    }
   ],
   "source": [
    "y_2015 = reg.predict(np.array([[20]]))\n",
    "y_2015"
   ]
  },
  {
   "cell_type": "markdown",
   "metadata": {},
   "source": [
    "Evidently the same should be done with volatility. Not to spend time, will take the std for 2014 year as a proxy"
   ]
  },
  {
   "cell_type": "code",
   "execution_count": 11,
   "metadata": {},
   "outputs": [
    {
     "data": {
      "text/plain": [
       "<matplotlib.axes._subplots.AxesSubplot at 0x2aef43a10>"
      ]
     },
     "execution_count": 11,
     "metadata": {},
     "output_type": "execute_result"
    },
    {
     "data": {
      "image/png": "[encoded data removed]",
      "text/plain": [
       "<Figure size 432x288 with 1 Axes>"
      ]
     },
     "metadata": {
      "needs_background": "light"
     },
     "output_type": "display_data"
    }
   ],
   "source": [
    "y_std = dt[['year', 'price']].groupby('year').std()\n",
    "y_std.plot()"
   ]
  },
  {
   "cell_type": "code",
   "execution_count": 12,
   "metadata": {},
   "outputs": [],
   "source": [
    "y_2015_std = y_std.loc[2014][0]"
   ]
  },
  {
   "cell_type": "code",
   "execution_count": 13,
   "metadata": {},
   "outputs": [
    {
     "data": {
      "text/plain": [
       "322702.69289264706"
      ]
     },
     "execution_count": 13,
     "metadata": {},
     "output_type": "execute_result"
    }
   ],
   "source": [
    "y_2015_std"
   ]
  },
  {
   "cell_type": "markdown",
   "metadata": {},
   "source": [
    "Standartize price on yearly basis"
   ]
  },
  {
   "cell_type": "code",
   "execution_count": 14,
   "metadata": {},
   "outputs": [],
   "source": [
    "prices_bu = dt[['year', 'price']]"
   ]
  },
  {
   "cell_type": "code",
   "execution_count": 22,
   "metadata": {},
   "outputs": [],
   "source": [
    "y_l = y_l.set_index('year').to_dict()['price']\n",
    "y_std = y_std.to_dict()['price']\n",
    "\n",
    "yy = dt['year'].unique()\n",
    "\n",
    "for y in yy:\n",
    "    dt['price'] = np.where(dt['year']==y, (dt['price'] - y_l[y])/y_std[y], dt['price'])"
   ]
  },
  {
   "cell_type": "markdown",
   "metadata": {},
   "source": [
    "#### Categorical vars"
   ]
  },
  {
   "cell_type": "code",
   "execution_count": 23,
   "metadata": {},
   "outputs": [
    {
     "data": {
      "text/html": [
       "<div>\n",
       "<style scoped>\n",
       "    .dataframe tbody tr th:only-of-type {\n",
       "        vertical-align: middle;\n",
       "    }\n",
       "\n",
       "    .dataframe tbody tr th {\n",
       "        vertical-align: top;\n",
       "    }\n",
       "\n",
       "    .dataframe thead th {\n",
       "        text-align: right;\n",
       "    }\n",
       "</style>\n",
       "<table border=\"1\" class=\"dataframe\">\n",
       "  <thead>\n",
       "    <tr style=\"text-align: right;\">\n",
       "      <th></th>\n",
       "      <th>id</th>\n",
       "      <th>Postcode</th>\n",
       "      <th>Property Type</th>\n",
       "      <th>Old_New</th>\n",
       "      <th>Duration</th>\n",
       "      <th>PAON</th>\n",
       "      <th>SAON</th>\n",
       "      <th>Street</th>\n",
       "      <th>Locality</th>\n",
       "      <th>Town/City</th>\n",
       "      <th>District</th>\n",
       "      <th>County</th>\n",
       "      <th>PPD Category Type</th>\n",
       "      <th>Record Status</th>\n",
       "    </tr>\n",
       "  </thead>\n",
       "  <tbody>\n",
       "    <tr>\n",
       "      <th>count</th>\n",
       "      <td>23435355</td>\n",
       "      <td>23417898</td>\n",
       "      <td>23435355</td>\n",
       "      <td>23435355</td>\n",
       "      <td>23435355</td>\n",
       "      <td>23431143</td>\n",
       "      <td>2659126</td>\n",
       "      <td>23087234</td>\n",
       "      <td>16393782</td>\n",
       "      <td>23435355</td>\n",
       "      <td>23435355</td>\n",
       "      <td>23435355</td>\n",
       "      <td>23435355</td>\n",
       "      <td>23435355</td>\n",
       "    </tr>\n",
       "    <tr>\n",
       "      <th>unique</th>\n",
       "      <td>23435355</td>\n",
       "      <td>1210355</td>\n",
       "      <td>4</td>\n",
       "      <td>2</td>\n",
       "      <td>3</td>\n",
       "      <td>417888</td>\n",
       "      <td>36923</td>\n",
       "      <td>304740</td>\n",
       "      <td>22965</td>\n",
       "      <td>1170</td>\n",
       "      <td>454</td>\n",
       "      <td>127</td>\n",
       "      <td>1</td>\n",
       "      <td>1</td>\n",
       "    </tr>\n",
       "    <tr>\n",
       "      <th>top</th>\n",
       "      <td>{84C4AAD4-F61F-4B42-B967-3480873579D3}</td>\n",
       "      <td>BS3 3NG</td>\n",
       "      <td>T</td>\n",
       "      <td>N</td>\n",
       "      <td>F</td>\n",
       "      <td>2</td>\n",
       "      <td>FLAT 2</td>\n",
       "      <td>HIGH STREET</td>\n",
       "      <td>LONDON</td>\n",
       "      <td>LONDON</td>\n",
       "      <td>BIRMINGHAM</td>\n",
       "      <td>GREATER LONDON</td>\n",
       "      <td>A</td>\n",
       "      <td>A</td>\n",
       "    </tr>\n",
       "    <tr>\n",
       "      <th>freq</th>\n",
       "      <td>1</td>\n",
       "      <td>303</td>\n",
       "      <td>7174145</td>\n",
       "      <td>21004743</td>\n",
       "      <td>17940297</td>\n",
       "      <td>585649</td>\n",
       "      <td>149363</td>\n",
       "      <td>143460</td>\n",
       "      <td>901915</td>\n",
       "      <td>1819460</td>\n",
       "      <td>344293</td>\n",
       "      <td>3061230</td>\n",
       "      <td>23435355</td>\n",
       "      <td>23435355</td>\n",
       "    </tr>\n",
       "  </tbody>\n",
       "</table>\n",
       "</div>"
      ],
      "text/plain": [
       "                                            id  Postcode Property Type  \\\n",
       "count                                 23435355  23417898      23435355   \n",
       "unique                                23435355   1210355             4   \n",
       "top     {84C4AAD4-F61F-4B42-B967-3480873579D3}   BS3 3NG             T   \n",
       "freq                                         1       303       7174145   \n",
       "\n",
       "         Old_New  Duration      PAON     SAON       Street  Locality  \\\n",
       "count   23435355  23435355  23431143  2659126     23087234  16393782   \n",
       "unique         2         3    417888    36923       304740     22965   \n",
       "top            N         F         2   FLAT 2  HIGH STREET    LONDON   \n",
       "freq    21004743  17940297    585649   149363       143460    901915   \n",
       "\n",
       "       Town/City    District          County PPD Category Type Record Status  \n",
       "count   23435355    23435355        23435355          23435355      23435355  \n",
       "unique      1170         454             127                 1             1  \n",
       "top       LONDON  BIRMINGHAM  GREATER LONDON                 A             A  \n",
       "freq     1819460      344293         3061230          23435355      23435355  "
      ]
     },
     "execution_count": 23,
     "metadata": {},
     "output_type": "execute_result"
    }
   ],
   "source": [
    "dt.describe(include='category')"
   ]
  },
  {
   "cell_type": "markdown",
   "metadata": {},
   "source": [
    "If variable has small number of unique values, then will use dummy. With highly variative variables as a proxy of a group will use standartized mean price."
   ]
  },
  {
   "cell_type": "code",
   "execution_count": 24,
   "metadata": {},
   "outputs": [],
   "source": [
    "dt = dt.drop(columns=['id', 'Postcode', 'date', 'PAON', 'SAON', 'Record Status',\n",
    "                        'PPD Category Type'])"
   ]
  },
  {
   "cell_type": "code",
   "execution_count": 25,
   "metadata": {},
   "outputs": [],
   "source": [
    "dt = pd.get_dummies(data=dt, columns=['Property Type', 'Old_New', 'Duration'])"
   ]
  },
  {
   "cell_type": "code",
   "execution_count": 26,
   "metadata": {},
   "outputs": [],
   "source": [
    "for g in ['Street', 'Locality', 'Town/City', 'County', 'District']:\n",
    "    cc = dt[dt['year']<2015][[g,'price']].groupby(g).mean()\n",
    "    m = mean(cc['price'])\n",
    "\n",
    "    cc['price'] = cc['price']/m-1\n",
    "    cc = cc.to_dict()['price']\n",
    "\n",
    "    dt[g] = dt[g].apply(lambda x: cc[x])\n",
    "\n",
    "    dt[g]=pd.to_numeric(dt[g], downcast = 'float')"
   ]
  },
  {
   "cell_type": "code",
   "execution_count": 27,
   "metadata": {},
   "outputs": [],
   "source": [
    "dt_test = dt[dt['year'] == 2015]\n",
    "dt_train = dt[dt['year'] < 2015]"
   ]
  },
  {
   "cell_type": "code",
   "execution_count": 28,
   "metadata": {},
   "outputs": [
    {
     "data": {
      "text/html": [
       "<div>\n",
       "<style scoped>\n",
       "    .dataframe tbody tr th:only-of-type {\n",
       "        vertical-align: middle;\n",
       "    }\n",
       "\n",
       "    .dataframe tbody tr th {\n",
       "        vertical-align: top;\n",
       "    }\n",
       "\n",
       "    .dataframe thead th {\n",
       "        text-align: right;\n",
       "    }\n",
       "</style>\n",
       "<table border=\"1\" class=\"dataframe\">\n",
       "  <thead>\n",
       "    <tr style=\"text-align: right;\">\n",
       "      <th></th>\n",
       "      <th>price</th>\n",
       "      <th>Street</th>\n",
       "      <th>Locality</th>\n",
       "      <th>Town/City</th>\n",
       "      <th>District</th>\n",
       "      <th>County</th>\n",
       "      <th>year</th>\n",
       "      <th>year_index</th>\n",
       "      <th>Property Type_D</th>\n",
       "      <th>Property Type_F</th>\n",
       "      <th>Property Type_S</th>\n",
       "      <th>Property Type_T</th>\n",
       "      <th>Property Type_O</th>\n",
       "      <th>Old_New_N</th>\n",
       "      <th>Old_New_Y</th>\n",
       "      <th>Duration_F</th>\n",
       "      <th>Duration_L</th>\n",
       "      <th>Duration_U</th>\n",
       "    </tr>\n",
       "  </thead>\n",
       "  <tbody>\n",
       "    <tr>\n",
       "      <th>0</th>\n",
       "      <td>0.923993</td>\n",
       "      <td>8.842290</td>\n",
       "      <td>-0.705254</td>\n",
       "      <td>-17.849262</td>\n",
       "      <td>5.595563</td>\n",
       "      <td>0.879991</td>\n",
       "      <td>1995</td>\n",
       "      <td>23</td>\n",
       "      <td>1</td>\n",
       "      <td>0</td>\n",
       "      <td>0</td>\n",
       "      <td>0</td>\n",
       "      <td>0</td>\n",
       "      <td>1</td>\n",
       "      <td>0</td>\n",
       "      <td>1</td>\n",
       "      <td>0</td>\n",
       "      <td>0</td>\n",
       "    </tr>\n",
       "    <tr>\n",
       "      <th>1</th>\n",
       "      <td>-0.528149</td>\n",
       "      <td>-8.691845</td>\n",
       "      <td>-1.652346</td>\n",
       "      <td>-9.598667</td>\n",
       "      <td>2.375140</td>\n",
       "      <td>-0.988482</td>\n",
       "      <td>1995</td>\n",
       "      <td>23</td>\n",
       "      <td>0</td>\n",
       "      <td>0</td>\n",
       "      <td>0</td>\n",
       "      <td>1</td>\n",
       "      <td>0</td>\n",
       "      <td>1</td>\n",
       "      <td>0</td>\n",
       "      <td>1</td>\n",
       "      <td>0</td>\n",
       "      <td>0</td>\n",
       "    </tr>\n",
       "    <tr>\n",
       "      <th>2</th>\n",
       "      <td>0.437098</td>\n",
       "      <td>-1.590586</td>\n",
       "      <td>-0.159079</td>\n",
       "      <td>19.822622</td>\n",
       "      <td>-7.362062</td>\n",
       "      <td>-5.450375</td>\n",
       "      <td>1995</td>\n",
       "      <td>23</td>\n",
       "      <td>1</td>\n",
       "      <td>0</td>\n",
       "      <td>0</td>\n",
       "      <td>0</td>\n",
       "      <td>0</td>\n",
       "      <td>1</td>\n",
       "      <td>0</td>\n",
       "      <td>1</td>\n",
       "      <td>0</td>\n",
       "      <td>0</td>\n",
       "    </tr>\n",
       "    <tr>\n",
       "      <th>3</th>\n",
       "      <td>-0.613569</td>\n",
       "      <td>-5.256212</td>\n",
       "      <td>-1.957712</td>\n",
       "      <td>-21.827385</td>\n",
       "      <td>8.479965</td>\n",
       "      <td>1.232987</td>\n",
       "      <td>1995</td>\n",
       "      <td>23</td>\n",
       "      <td>0</td>\n",
       "      <td>0</td>\n",
       "      <td>0</td>\n",
       "      <td>1</td>\n",
       "      <td>0</td>\n",
       "      <td>1</td>\n",
       "      <td>0</td>\n",
       "      <td>1</td>\n",
       "      <td>0</td>\n",
       "      <td>0</td>\n",
       "    </tr>\n",
       "    <tr>\n",
       "      <th>4</th>\n",
       "      <td>-0.511065</td>\n",
       "      <td>-4.413632</td>\n",
       "      <td>-1.884698</td>\n",
       "      <td>-18.971687</td>\n",
       "      <td>5.612983</td>\n",
       "      <td>0.872550</td>\n",
       "      <td>1995</td>\n",
       "      <td>23</td>\n",
       "      <td>0</td>\n",
       "      <td>0</td>\n",
       "      <td>0</td>\n",
       "      <td>1</td>\n",
       "      <td>0</td>\n",
       "      <td>1</td>\n",
       "      <td>0</td>\n",
       "      <td>1</td>\n",
       "      <td>0</td>\n",
       "      <td>0</td>\n",
       "    </tr>\n",
       "  </tbody>\n",
       "</table>\n",
       "</div>"
      ],
      "text/plain": [
       "      price    Street  Locality  Town/City  District    County  year  \\\n",
       "0  0.923993  8.842290 -0.705254 -17.849262  5.595563  0.879991  1995   \n",
       "1 -0.528149 -8.691845 -1.652346  -9.598667  2.375140 -0.988482  1995   \n",
       "2  0.437098 -1.590586 -0.159079  19.822622 -7.362062 -5.450375  1995   \n",
       "3 -0.613569 -5.256212 -1.957712 -21.827385  8.479965  1.232987  1995   \n",
       "4 -0.511065 -4.413632 -1.884698 -18.971687  5.612983  0.872550  1995   \n",
       "\n",
       "   year_index  Property Type_D  Property Type_F  Property Type_S  \\\n",
       "0          23                1                0                0   \n",
       "1          23                0                0                0   \n",
       "2          23                1                0                0   \n",
       "3          23                0                0                0   \n",
       "4          23                0                0                0   \n",
       "\n",
       "   Property Type_T  Property Type_O  Old_New_N  Old_New_Y  Duration_F  \\\n",
       "0                0                0          1          0           1   \n",
       "1                1                0          1          0           1   \n",
       "2                0                0          1          0           1   \n",
       "3                1                0          1          0           1   \n",
       "4                1                0          1          0           1   \n",
       "\n",
       "   Duration_L  Duration_U  \n",
       "0           0           0  \n",
       "1           0           0  \n",
       "2           0           0  \n",
       "3           0           0  \n",
       "4           0           0  "
      ]
     },
     "execution_count": 28,
     "metadata": {},
     "output_type": "execute_result"
    }
   ],
   "source": [
    "dt_train.head()"
   ]
  },
  {
   "cell_type": "markdown",
   "metadata": {},
   "source": [
    "Split on train/test"
   ]
  },
  {
   "cell_type": "code",
   "execution_count": 29,
   "metadata": {},
   "outputs": [],
   "source": [
    "x_test = dt_test[dt_test.drop(columns=['price', 'year']).columns.tolist()]\n",
    "y_test = dt_test['price']\n",
    "\n",
    "x_train = dt_train[dt_train.drop(columns=['price', 'year']).columns.tolist()]\n",
    "y_train = dt_train['price']"
   ]
  },
  {
   "cell_type": "markdown",
   "metadata": {},
   "source": [
    "# Model and predictions"
   ]
  },
  {
   "cell_type": "code",
   "execution_count": 30,
   "metadata": {},
   "outputs": [],
   "source": [
    "from xgboost.sklearn import XGBRegressor\n",
    "from xgboost import plot_importance\n",
    "import warnings\n",
    "warnings.filterwarnings(\"ignore\")"
   ]
  },
  {
   "cell_type": "code",
   "execution_count": 31,
   "metadata": {},
   "outputs": [
    {
     "name": "stdout",
     "output_type": "stream",
     "text": [
      "[16:28:36] Tree method is automatically selected to be 'approx' for faster speed. To use old behavior (exact greedy algorithm on single machine), set tree_method to 'exact'.\n"
     ]
    },
    {
     "data": {
      "text/plain": [
       "XGBRegressor(base_score=0.5, booster='gbtree', colsample_bylevel=1,\n",
       "       colsample_bytree=1, gamma=0, learning_rate=0.1, max_delta_step=0,\n",
       "       max_depth=3, min_child_weight=1, missing=None, n_estimators=100,\n",
       "       n_jobs=-1, nthread=None, objective='reg:linear', random_state=0,\n",
       "       reg_alpha=0, reg_lambda=1, scale_pos_weight=1, seed=None,\n",
       "       silent=True, subsample=0.5)"
      ]
     },
     "execution_count": 31,
     "metadata": {},
     "output_type": "execute_result"
    }
   ],
   "source": [
    "model = XGBRegressor( subsample=.5, n_jobs=-1)\n",
    "model.fit(x_train, y_train)"
   ]
  },
  {
   "cell_type": "code",
   "execution_count": 32,
   "metadata": {},
   "outputs": [
    {
     "data": {
      "text/plain": [
       "<matplotlib.axes._subplots.AxesSubplot at 0x2ab10d1d0>"
      ]
     },
     "execution_count": 32,
     "metadata": {},
     "output_type": "execute_result"
    },
    {
     "data": {
      "image/png": "[encoded data removed]",
      "text/plain": [
       "<Figure size 432x288 with 1 Axes>"
      ]
     },
     "metadata": {
      "needs_background": "light"
     },
     "output_type": "display_data"
    }
   ],
   "source": [
    "plot_importance(model)"
   ]
  },
  {
   "cell_type": "code",
   "execution_count": 33,
   "metadata": {},
   "outputs": [],
   "source": [
    "y_pred = model.predict(x_test)\n",
    "y_pred_train = model.predict(x_train)"
   ]
  },
  {
   "cell_type": "code",
   "execution_count": 34,
   "metadata": {},
   "outputs": [
    {
     "name": "stdout",
     "output_type": "stream",
     "text": [
      "Train ------------\n",
      "0.30531891270499756\n",
      "Test ------------\n",
      "0.28671717923941953\n",
      "0.4649325836521029\n"
     ]
    }
   ],
   "source": [
    "from sklearn.metrics import mean_absolute_error, r2_score\n",
    "print('Train ------------')\n",
    "print(mean_absolute_error(y_train, y_pred_train))\n",
    "print('Test ------------')\n",
    "print(mean_absolute_error(y_test, y_pred))\n",
    "print(r2_score(y_test, y_pred))"
   ]
  },
  {
   "cell_type": "code",
   "execution_count": 35,
   "metadata": {},
   "outputs": [
    {
     "name": "stdout",
     "output_type": "stream",
     "text": [
      "Test ------------\n",
      "86840.11943449808\n",
      "0.47074881479112596\n"
     ]
    }
   ],
   "source": [
    "y_test = prices_bu[prices_bu['year'] == 2015]['price'].tolist()\n",
    "y_pred = [i*y_2015_std + y_2015[0] for i in y_pred]\n",
    "print('Test ------------')\n",
    "print(mean_absolute_error(y_test, y_pred))\n",
    "print(r2_score(y_test, y_pred))"
   ]
  },
  {
   "cell_type": "code",
   "execution_count": 36,
   "metadata": {},
   "outputs": [
    {
     "data": {
      "text/plain": [
       "274515.7238903452"
      ]
     },
     "execution_count": 36,
     "metadata": {},
     "output_type": "execute_result"
    }
   ],
   "source": [
    "np.average(y_pred)"
   ]
  },
  {
   "cell_type": "code",
   "execution_count": 37,
   "metadata": {},
   "outputs": [
    {
     "data": {
      "text/plain": [
       "271998.8000481917"
      ]
     },
     "execution_count": 37,
     "metadata": {},
     "output_type": "execute_result"
    }
   ],
   "source": [
    "np.average(y_test)"
   ]
  },
  {
   "cell_type": "code",
   "execution_count": null,
   "metadata": {},
   "outputs": [],
   "source": []
  }
 ],
 "metadata": {
  "kernelspec": {
   "display_name": "Python 3",
   "language": "python",
   "name": "python3"
  },
  "language_info": {
   "codemirror_mode": {
    "name": "ipython",
    "version": 3
   },
   "file_extension": ".py",
   "mimetype": "text/x-python",
   "name": "python",
   "nbconvert_exporter": "python",
   "pygments_lexer": "ipython3",
   "version": "3.6.5"
  }
 },
 "nbformat": 4,
 "nbformat_minor": 2
}
